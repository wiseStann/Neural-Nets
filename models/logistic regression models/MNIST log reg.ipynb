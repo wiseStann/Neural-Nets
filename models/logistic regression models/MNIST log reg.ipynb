{
 "cells": [
  {
   "cell_type": "code",
   "execution_count": 1,
   "metadata": {},
   "outputs": [],
   "source": [
    "import torch\n",
    "import torch.nn as nn\n",
    "import torch.optim as optim\n",
    "from torchvision import datasets, transforms\n",
    "from torch.utils.data import DataLoader\n",
    "\n",
    "import numpy as np\n",
    "import matplotlib.pyplot as plt"
   ]
  },
  {
   "cell_type": "code",
   "execution_count": 2,
   "metadata": {},
   "outputs": [],
   "source": [
    "class LogisticRegression(nn.Module):\n",
    "    def __init__(self, in_features, out_features):\n",
    "        super().__init__()\n",
    "        self.linear = nn.Sequential(\n",
    "            nn.Linear(in_features, out_features),\n",
    "            nn.Sigmoid()\n",
    "            # we are using Sigmoid function as an activation function that the output will be in range [0, 1]\n",
    "        )\n",
    "    \n",
    "    def forward(self, X):\n",
    "        y_pred = self.linear(X)\n",
    "        return y_pred"
   ]
  },
  {
   "cell_type": "code",
   "execution_count": 3,
   "metadata": {},
   "outputs": [
    {
     "name": "stdout",
     "output_type": "stream",
     "text": [
      "Number of pictures for train: 938\n"
     ]
    }
   ],
   "source": [
    "# MNIST dataset (images and labels)\n",
    "train_data = datasets.MNIST(root='../../data', train=True, transform=transforms.ToTensor()) # download before using\n",
    "test_data = datasets.MNIST(root='../../data', train=False, transform=transforms.ToTensor())\n",
    "\n",
    "# Using DalaLoader to make datasets iterable\n",
    "train_loader = DataLoader(dataset=train_data, batch_size=64, shuffle=True)\n",
    "test_loader = DataLoader(dataset=test_data, batch_size=64, shuffle=False)\n",
    "\n",
    "print(\"Number of pictures for train:\", len(train_loader))"
   ]
  },
  {
   "cell_type": "code",
   "execution_count": 4,
   "metadata": {},
   "outputs": [],
   "source": [
    "def train(model, epoches, learning_rate):\n",
    "    # Loss and optimizer\n",
    "    criterion = nn.CrossEntropyLoss()  \n",
    "    optimizer = torch.optim.SGD(model.parameters(), lr=learning_rate)\n",
    "    total_num = len(train_loader)\n",
    "    for epoch in range(epoches):\n",
    "        for i, (images, labels) in enumerate(train_loader):\n",
    "            images = images.view(-1, 28*28)\n",
    "            \n",
    "            y_pred = model(images)\n",
    "            loss = criterion(y_pred, labels)\n",
    "            \n",
    "            # Zero gradient value\n",
    "            optimizer.zero_grad()\n",
    "            # Algorithm error backpropagation\n",
    "            loss.backward()\n",
    "            # Update our weigths\n",
    "            optimizer.step()\n",
    "\n",
    "            if (i+1) % 200 == 0:\n",
    "                print('Epoch [{}/{}], Step [{}/{}], Loss: {:.4f}'.format(epoch+1, epoches, i+1, total_num, loss.item()))"
   ]
  },
  {
   "cell_type": "code",
   "execution_count": 5,
   "metadata": {},
   "outputs": [],
   "source": [
    "def test(model):\n",
    "    correct = 0\n",
    "    total = 0\n",
    "    \n",
    "    # In test phase, we don't need to compute gradients (for memory efficiency) and use torch.no_grad()\n",
    "    # More: https://pytorch.org/docs/stable/autograd.html#locally-disable-grad\n",
    "    with torch.no_grad():\n",
    "        for images, labels in test_loader:\n",
    "            images = images.reshape(-1, 28*28)\n",
    "            y_pred = model(images)\n",
    "            _, predicted = torch.max(y_pred.data, 1)\n",
    "            total += labels.size(0)\n",
    "            correct += (predicted == labels).sum()\n",
    "\n",
    "        print('Accuracy of the model on the 10000 test images: {} %'.format(100 * correct / total))"
   ]
  },
  {
   "cell_type": "code",
   "execution_count": 6,
   "metadata": {},
   "outputs": [],
   "source": [
    "logreg = LogisticRegression(28*28, 10)"
   ]
  },
  {
   "cell_type": "code",
   "execution_count": 7,
   "metadata": {},
   "outputs": [
    {
     "name": "stdout",
     "output_type": "stream",
     "text": [
      "Epoch [1/10], Step [200/938], Loss: 2.2918\n",
      "Epoch [1/10], Step [400/938], Loss: 2.2749\n",
      "Epoch [1/10], Step [600/938], Loss: 2.2670\n",
      "Epoch [1/10], Step [800/938], Loss: 2.2698\n",
      "Epoch [2/10], Step [200/938], Loss: 2.2334\n",
      "Epoch [2/10], Step [400/938], Loss: 2.2252\n",
      "Epoch [2/10], Step [600/938], Loss: 2.2173\n",
      "Epoch [2/10], Step [800/938], Loss: 2.2227\n",
      "Epoch [3/10], Step [200/938], Loss: 2.1919\n",
      "Epoch [3/10], Step [400/938], Loss: 2.1812\n",
      "Epoch [3/10], Step [600/938], Loss: 2.1717\n",
      "Epoch [3/10], Step [800/938], Loss: 2.1486\n",
      "Epoch [4/10], Step [200/938], Loss: 2.1552\n",
      "Epoch [4/10], Step [400/938], Loss: 2.1585\n",
      "Epoch [4/10], Step [600/938], Loss: 2.1160\n",
      "Epoch [4/10], Step [800/938], Loss: 2.1267\n",
      "Epoch [5/10], Step [200/938], Loss: 2.0946\n",
      "Epoch [5/10], Step [400/938], Loss: 2.0819\n",
      "Epoch [5/10], Step [600/938], Loss: 2.1127\n",
      "Epoch [5/10], Step [800/938], Loss: 2.0693\n",
      "Epoch [6/10], Step [200/938], Loss: 2.0782\n",
      "Epoch [6/10], Step [400/938], Loss: 2.0566\n",
      "Epoch [6/10], Step [600/938], Loss: 2.0729\n",
      "Epoch [6/10], Step [800/938], Loss: 2.0669\n",
      "Epoch [7/10], Step [200/938], Loss: 2.0380\n",
      "Epoch [7/10], Step [400/938], Loss: 2.0448\n",
      "Epoch [7/10], Step [600/938], Loss: 2.0303\n",
      "Epoch [7/10], Step [800/938], Loss: 2.0008\n",
      "Epoch [8/10], Step [200/938], Loss: 2.0109\n",
      "Epoch [8/10], Step [400/938], Loss: 1.9981\n",
      "Epoch [8/10], Step [600/938], Loss: 2.0011\n",
      "Epoch [8/10], Step [800/938], Loss: 2.0221\n",
      "Epoch [9/10], Step [200/938], Loss: 2.0082\n",
      "Epoch [9/10], Step [400/938], Loss: 2.0290\n",
      "Epoch [9/10], Step [600/938], Loss: 1.9564\n",
      "Epoch [9/10], Step [800/938], Loss: 1.9485\n",
      "Epoch [10/10], Step [200/938], Loss: 1.9862\n",
      "Epoch [10/10], Step [400/938], Loss: 2.0052\n",
      "Epoch [10/10], Step [600/938], Loss: 1.9698\n",
      "Epoch [10/10], Step [800/938], Loss: 1.9896\n"
     ]
    }
   ],
   "source": [
    "train(logreg, 10, 1e-3)"
   ]
  },
  {
   "cell_type": "code",
   "execution_count": 8,
   "metadata": {},
   "outputs": [
    {
     "name": "stdout",
     "output_type": "stream",
     "text": [
      "Accuracy of the model on the 10000 test images: 79 %\n"
     ]
    }
   ],
   "source": [
    "test(logreg)"
   ]
  },
  {
   "cell_type": "markdown",
   "metadata": {},
   "source": [
    "#### So, using logistic regression approach we achieved a good result. Without any doubts, convolutional neural networks (CNNs) would be better for classifying images. "
   ]
  }
 ],
 "metadata": {
  "kernelspec": {
   "display_name": "Python 3",
   "language": "python",
   "name": "python3"
  },
  "language_info": {
   "codemirror_mode": {
    "name": "ipython",
    "version": 3
   },
   "file_extension": ".py",
   "mimetype": "text/x-python",
   "name": "python",
   "nbconvert_exporter": "python",
   "pygments_lexer": "ipython3",
   "version": "3.7.3"
  }
 },
 "nbformat": 4,
 "nbformat_minor": 2
}
